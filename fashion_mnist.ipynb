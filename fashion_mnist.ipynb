{
  "nbformat": 4,
  "nbformat_minor": 0,
  "metadata": {
    "colab": {
      "name": "fashion mnist.ipynb",
      "provenance": [],
      "collapsed_sections": []
    },
    "kernelspec": {
      "name": "python3",
      "display_name": "Python 3"
    },
    "language_info": {
      "name": "python"
    },
    "accelerator": "GPU"
  },
  "cells": [
    {
      "cell_type": "code",
      "execution_count": 2,
      "metadata": {
        "id": "nPInblBpwwDH"
      },
      "outputs": [],
      "source": [
        "import numpy as np\n",
        "import datetime\n",
        "import tensorflow as tf\n",
        "from tensorflow.keras.datasets import fashion_mnist\n"
      ]
    },
    {
      "cell_type": "code",
      "source": [
        "tf.__version__"
      ],
      "metadata": {
        "colab": {
          "base_uri": "https://localhost:8080/",
          "height": 35
        },
        "id": "44NnMWeixlLK",
        "outputId": "f60cd965-78b2-42b0-a3f1-d2fe2ec7201a"
      },
      "execution_count": 3,
      "outputs": [
        {
          "output_type": "execute_result",
          "data": {
            "application/vnd.google.colaboratory.intrinsic+json": {
              "type": "string"
            },
            "text/plain": [
              "'2.7.0'"
            ]
          },
          "metadata": {},
          "execution_count": 3
        }
      ]
    },
    {
      "cell_type": "code",
      "source": [
        "(X_train,y_train) ,( X_test , y_test) = fashion_mnist.load_data()"
      ],
      "metadata": {
        "id": "zwC_TyPSxsXl"
      },
      "execution_count": 5,
      "outputs": []
    },
    {
      "cell_type": "code",
      "source": [
        "X_test.shape"
      ],
      "metadata": {
        "colab": {
          "base_uri": "https://localhost:8080/"
        },
        "id": "p2_gxsvMyFuU",
        "outputId": "c84c102b-245a-46de-8847-cc7045fa7f0c"
      },
      "execution_count": 11,
      "outputs": [
        {
          "output_type": "execute_result",
          "data": {
            "text/plain": [
              "(10000, 28, 28)"
            ]
          },
          "metadata": {},
          "execution_count": 11
        }
      ]
    },
    {
      "cell_type": "markdown",
      "source": [
        "## preprocessing"
      ],
      "metadata": {
        "id": "IlM3Gc1DyS8t"
      }
    },
    {
      "cell_type": "code",
      "source": [
        "X_train = X_train/255.0\n",
        "X_test = X_test  /255.0\n"
      ],
      "metadata": {
        "id": "TXmPOVX4yfUW"
      },
      "execution_count": 12,
      "outputs": []
    },
    {
      "cell_type": "code",
      "source": [
        "X_train=X_train.reshape(-1, 28*28)\n",
        "\n",
        "X_test=X_test.reshape(-1,28*28)"
      ],
      "metadata": {
        "id": "vqqwcTX-ynUS"
      },
      "execution_count": 16,
      "outputs": []
    },
    {
      "cell_type": "markdown",
      "source": [
        "## Now Build the ANN"
      ],
      "metadata": {
        "id": "eZ6pF3FqzOBD"
      }
    },
    {
      "cell_type": "code",
      "source": [
        "model = tf.keras.models.Sequential()"
      ],
      "metadata": {
        "id": "cw3JNW7iztfG"
      },
      "execution_count": 32,
      "outputs": []
    },
    {
      "cell_type": "code",
      "source": [
        "model.add(tf.keras.layers.Dense(128,activation='relu',input_shape=(784,)))\n",
        "\n",
        "model.add(tf.keras.layers.Dense(128,activation='relu'))\n"
      ],
      "metadata": {
        "id": "N4ptd6Kmz5Rn"
      },
      "execution_count": 33,
      "outputs": []
    },
    {
      "cell_type": "code",
      "source": [
        "model . add (tf.keras.layers.Dropout(0.2))\n"
      ],
      "metadata": {
        "id": "zztvcZH90IP3"
      },
      "execution_count": 34,
      "outputs": []
    },
    {
      "cell_type": "code",
      "source": [
        "model . add(tf.keras.layers.Dense(units=10,activation = 'softmax'))"
      ],
      "metadata": {
        "id": "d0A3W3Eu0qC0"
      },
      "execution_count": 35,
      "outputs": []
    },
    {
      "cell_type": "code",
      "source": [
        "!ping www.google.com\n"
      ],
      "metadata": {
        "colab": {
          "base_uri": "https://localhost:8080/"
        },
        "id": "mhNOzAvb0-dt",
        "outputId": "28f7f2db-861f-41bf-b943-6d63799debac"
      },
      "execution_count": 26,
      "outputs": [
        {
          "output_type": "stream",
          "name": "stdout",
          "text": [
            "/bin/bash: ping: command not found\n"
          ]
        }
      ]
    },
    {
      "cell_type": "code",
      "source": [
        "model.compile(optimizer='adam',loss='sparse_categorical_crossentropy', metrics=['sparse_categorical_accuracy'])"
      ],
      "metadata": {
        "id": "1_m-Q5MA1stz"
      },
      "execution_count": 36,
      "outputs": []
    },
    {
      "cell_type": "code",
      "source": [
        "model.summary()"
      ],
      "metadata": {
        "colab": {
          "base_uri": "https://localhost:8080/"
        },
        "id": "F-kADBZd25fK",
        "outputId": "576f3a4e-3dc4-4aa2-9370-40a9695d0978"
      },
      "execution_count": 37,
      "outputs": [
        {
          "output_type": "stream",
          "name": "stdout",
          "text": [
            "Model: \"sequential_1\"\n",
            "_________________________________________________________________\n",
            " Layer (type)                Output Shape              Param #   \n",
            "=================================================================\n",
            " dense_4 (Dense)             (None, 128)               100480    \n",
            "                                                                 \n",
            " dense_5 (Dense)             (None, 128)               16512     \n",
            "                                                                 \n",
            " dropout_1 (Dropout)         (None, 128)               0         \n",
            "                                                                 \n",
            " dense_6 (Dense)             (None, 10)                1290      \n",
            "                                                                 \n",
            "=================================================================\n",
            "Total params: 118,282\n",
            "Trainable params: 118,282\n",
            "Non-trainable params: 0\n",
            "_________________________________________________________________\n"
          ]
        }
      ]
    },
    {
      "cell_type": "code",
      "source": [
        "model.fit(X_train, y_train,\n",
        "          batch_size=32,\n",
        "          epochs=32,\n",
        "          verbose=2,\n",
        "          validation_data=(X_test, y_test))"
      ],
      "metadata": {
        "colab": {
          "base_uri": "https://localhost:8080/"
        },
        "id": "7S9HStIM2-k0",
        "outputId": "2d4e7ed4-4a6c-4ae2-fa38-de12847e5b60"
      },
      "execution_count": 38,
      "outputs": [
        {
          "output_type": "stream",
          "name": "stdout",
          "text": [
            "Epoch 1/32\n",
            "1875/1875 - 5s - loss: 0.5017 - sparse_categorical_accuracy: 0.8193 - val_loss: 0.4052 - val_sparse_categorical_accuracy: 0.8522 - 5s/epoch - 3ms/step\n",
            "Epoch 2/32\n",
            "1875/1875 - 6s - loss: 0.3757 - sparse_categorical_accuracy: 0.8629 - val_loss: 0.3795 - val_sparse_categorical_accuracy: 0.8601 - 6s/epoch - 3ms/step\n",
            "Epoch 3/32\n",
            "1875/1875 - 5s - loss: 0.3392 - sparse_categorical_accuracy: 0.8745 - val_loss: 0.3805 - val_sparse_categorical_accuracy: 0.8626 - 5s/epoch - 3ms/step\n",
            "Epoch 4/32\n",
            "1875/1875 - 5s - loss: 0.3182 - sparse_categorical_accuracy: 0.8820 - val_loss: 0.3466 - val_sparse_categorical_accuracy: 0.8751 - 5s/epoch - 2ms/step\n",
            "Epoch 5/32\n",
            "1875/1875 - 5s - loss: 0.2986 - sparse_categorical_accuracy: 0.8905 - val_loss: 0.3485 - val_sparse_categorical_accuracy: 0.8728 - 5s/epoch - 3ms/step\n",
            "Epoch 6/32\n",
            "1875/1875 - 5s - loss: 0.2850 - sparse_categorical_accuracy: 0.8942 - val_loss: 0.3588 - val_sparse_categorical_accuracy: 0.8720 - 5s/epoch - 3ms/step\n",
            "Epoch 7/32\n",
            "1875/1875 - 5s - loss: 0.2735 - sparse_categorical_accuracy: 0.8973 - val_loss: 0.3660 - val_sparse_categorical_accuracy: 0.8600 - 5s/epoch - 3ms/step\n",
            "Epoch 8/32\n",
            "1875/1875 - 5s - loss: 0.2635 - sparse_categorical_accuracy: 0.9004 - val_loss: 0.3364 - val_sparse_categorical_accuracy: 0.8810 - 5s/epoch - 3ms/step\n",
            "Epoch 9/32\n",
            "1875/1875 - 5s - loss: 0.2557 - sparse_categorical_accuracy: 0.9038 - val_loss: 0.3449 - val_sparse_categorical_accuracy: 0.8778 - 5s/epoch - 3ms/step\n",
            "Epoch 10/32\n",
            "1875/1875 - 5s - loss: 0.2462 - sparse_categorical_accuracy: 0.9066 - val_loss: 0.3245 - val_sparse_categorical_accuracy: 0.8866 - 5s/epoch - 3ms/step\n",
            "Epoch 11/32\n",
            "1875/1875 - 5s - loss: 0.2398 - sparse_categorical_accuracy: 0.9098 - val_loss: 0.3517 - val_sparse_categorical_accuracy: 0.8791 - 5s/epoch - 3ms/step\n",
            "Epoch 12/32\n",
            "1875/1875 - 5s - loss: 0.2307 - sparse_categorical_accuracy: 0.9126 - val_loss: 0.3309 - val_sparse_categorical_accuracy: 0.8847 - 5s/epoch - 3ms/step\n",
            "Epoch 13/32\n",
            "1875/1875 - 5s - loss: 0.2259 - sparse_categorical_accuracy: 0.9140 - val_loss: 0.3520 - val_sparse_categorical_accuracy: 0.8834 - 5s/epoch - 2ms/step\n",
            "Epoch 14/32\n",
            "1875/1875 - 5s - loss: 0.2215 - sparse_categorical_accuracy: 0.9164 - val_loss: 0.3422 - val_sparse_categorical_accuracy: 0.8878 - 5s/epoch - 3ms/step\n",
            "Epoch 15/32\n",
            "1875/1875 - 5s - loss: 0.2130 - sparse_categorical_accuracy: 0.9185 - val_loss: 0.3730 - val_sparse_categorical_accuracy: 0.8826 - 5s/epoch - 3ms/step\n",
            "Epoch 16/32\n",
            "1875/1875 - 5s - loss: 0.2062 - sparse_categorical_accuracy: 0.9207 - val_loss: 0.3849 - val_sparse_categorical_accuracy: 0.8843 - 5s/epoch - 3ms/step\n",
            "Epoch 17/32\n",
            "1875/1875 - 5s - loss: 0.2056 - sparse_categorical_accuracy: 0.9218 - val_loss: 0.3435 - val_sparse_categorical_accuracy: 0.8896 - 5s/epoch - 2ms/step\n",
            "Epoch 18/32\n",
            "1875/1875 - 5s - loss: 0.1990 - sparse_categorical_accuracy: 0.9242 - val_loss: 0.3493 - val_sparse_categorical_accuracy: 0.8857 - 5s/epoch - 3ms/step\n",
            "Epoch 19/32\n",
            "1875/1875 - 5s - loss: 0.1961 - sparse_categorical_accuracy: 0.9251 - val_loss: 0.3492 - val_sparse_categorical_accuracy: 0.8914 - 5s/epoch - 2ms/step\n",
            "Epoch 20/32\n",
            "1875/1875 - 5s - loss: 0.1911 - sparse_categorical_accuracy: 0.9273 - val_loss: 0.3805 - val_sparse_categorical_accuracy: 0.8872 - 5s/epoch - 2ms/step\n",
            "Epoch 21/32\n",
            "1875/1875 - 5s - loss: 0.1901 - sparse_categorical_accuracy: 0.9276 - val_loss: 0.3754 - val_sparse_categorical_accuracy: 0.8871 - 5s/epoch - 2ms/step\n",
            "Epoch 22/32\n",
            "1875/1875 - 5s - loss: 0.1831 - sparse_categorical_accuracy: 0.9303 - val_loss: 0.3723 - val_sparse_categorical_accuracy: 0.8917 - 5s/epoch - 2ms/step\n",
            "Epoch 23/32\n",
            "1875/1875 - 5s - loss: 0.1811 - sparse_categorical_accuracy: 0.9308 - val_loss: 0.3746 - val_sparse_categorical_accuracy: 0.8894 - 5s/epoch - 2ms/step\n",
            "Epoch 24/32\n",
            "1875/1875 - 5s - loss: 0.1771 - sparse_categorical_accuracy: 0.9324 - val_loss: 0.3529 - val_sparse_categorical_accuracy: 0.8917 - 5s/epoch - 3ms/step\n",
            "Epoch 25/32\n",
            "1875/1875 - 5s - loss: 0.1735 - sparse_categorical_accuracy: 0.9338 - val_loss: 0.3791 - val_sparse_categorical_accuracy: 0.8909 - 5s/epoch - 3ms/step\n",
            "Epoch 26/32\n",
            "1875/1875 - 5s - loss: 0.1695 - sparse_categorical_accuracy: 0.9337 - val_loss: 0.3775 - val_sparse_categorical_accuracy: 0.8925 - 5s/epoch - 3ms/step\n",
            "Epoch 27/32\n",
            "1875/1875 - 5s - loss: 0.1653 - sparse_categorical_accuracy: 0.9366 - val_loss: 0.4084 - val_sparse_categorical_accuracy: 0.8849 - 5s/epoch - 3ms/step\n",
            "Epoch 28/32\n",
            "1875/1875 - 5s - loss: 0.1652 - sparse_categorical_accuracy: 0.9360 - val_loss: 0.4022 - val_sparse_categorical_accuracy: 0.8861 - 5s/epoch - 3ms/step\n",
            "Epoch 29/32\n",
            "1875/1875 - 5s - loss: 0.1625 - sparse_categorical_accuracy: 0.9376 - val_loss: 0.4170 - val_sparse_categorical_accuracy: 0.8903 - 5s/epoch - 3ms/step\n",
            "Epoch 30/32\n",
            "1875/1875 - 5s - loss: 0.1603 - sparse_categorical_accuracy: 0.9384 - val_loss: 0.3927 - val_sparse_categorical_accuracy: 0.8929 - 5s/epoch - 2ms/step\n",
            "Epoch 31/32\n",
            "1875/1875 - 5s - loss: 0.1579 - sparse_categorical_accuracy: 0.9392 - val_loss: 0.4271 - val_sparse_categorical_accuracy: 0.8892 - 5s/epoch - 3ms/step\n",
            "Epoch 32/32\n",
            "1875/1875 - 5s - loss: 0.1555 - sparse_categorical_accuracy: 0.9399 - val_loss: 0.4186 - val_sparse_categorical_accuracy: 0.8943 - 5s/epoch - 2ms/step\n"
          ]
        },
        {
          "output_type": "execute_result",
          "data": {
            "text/plain": [
              "<keras.callbacks.History at 0x7f9667eb5510>"
            ]
          },
          "metadata": {},
          "execution_count": 38
        }
      ]
    }
  ]
}