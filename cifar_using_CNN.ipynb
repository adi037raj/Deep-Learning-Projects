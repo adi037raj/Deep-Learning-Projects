{
  "nbformat": 4,
  "nbformat_minor": 0,
  "metadata": {
    "colab": {
      "name": "cifar using CNN.ipynb",
      "provenance": []
    },
    "kernelspec": {
      "name": "python3",
      "display_name": "Python 3"
    },
    "language_info": {
      "name": "python"
    },
    "accelerator": "GPU"
  },
  "cells": [
    {
      "cell_type": "code",
      "execution_count": 1,
      "metadata": {
        "id": "bQljOyVfALD4"
      },
      "outputs": [],
      "source": [
        "import tensorflow as tf\n",
        "\n",
        "import matplotlib.pyplot as plt\n",
        "%matplotlib inline\n",
        "\n",
        "from tensorflow.keras.datasets import cifar10"
      ]
    },
    {
      "cell_type": "code",
      "source": [
        "tf.__version__"
      ],
      "metadata": {
        "colab": {
          "base_uri": "https://localhost:8080/",
          "height": 35
        },
        "id": "skKpY8lzAgmF",
        "outputId": "8481f635-7a1a-4804-df98-ac6feb990550"
      },
      "execution_count": 2,
      "outputs": [
        {
          "output_type": "execute_result",
          "data": {
            "application/vnd.google.colaboratory.intrinsic+json": {
              "type": "string"
            },
            "text/plain": [
              "'2.8.0'"
            ]
          },
          "metadata": {},
          "execution_count": 2
        }
      ]
    },
    {
      "cell_type": "code",
      "source": [
        "(X_train,y_train),(X_test,y_test)= cifar10.load_data()"
      ],
      "metadata": {
        "colab": {
          "base_uri": "https://localhost:8080/"
        },
        "id": "9HtQj7XrAjyc",
        "outputId": "19ff69a0-70fe-46b9-fcfc-e432e514f59c"
      },
      "execution_count": 3,
      "outputs": [
        {
          "output_type": "stream",
          "name": "stdout",
          "text": [
            "Downloading data from https://www.cs.toronto.edu/~kriz/cifar-10-python.tar.gz\n",
            "170500096/170498071 [==============================] - 3s 0us/step\n",
            "170508288/170498071 [==============================] - 3s 0us/step\n"
          ]
        }
      ]
    },
    {
      "cell_type": "code",
      "source": [
        "X_train.shape, X_test.shape"
      ],
      "metadata": {
        "colab": {
          "base_uri": "https://localhost:8080/"
        },
        "id": "u_-tolF1AuiQ",
        "outputId": "6bbd3a15-e858-4897-a7a6-bd8987a86939"
      },
      "execution_count": 4,
      "outputs": [
        {
          "output_type": "execute_result",
          "data": {
            "text/plain": [
              "((50000, 32, 32, 3), (10000, 32, 32, 3))"
            ]
          },
          "metadata": {},
          "execution_count": 4
        }
      ]
    },
    {
      "cell_type": "code",
      "source": [
        "X_train"
      ],
      "metadata": {
        "colab": {
          "base_uri": "https://localhost:8080/"
        },
        "id": "wbg74erpA2iS",
        "outputId": "18c908b1-d5b4-453a-dba6-a33b46aae2b0"
      },
      "execution_count": 5,
      "outputs": [
        {
          "output_type": "execute_result",
          "data": {
            "text/plain": [
              "array([[[[ 59,  62,  63],\n",
              "         [ 43,  46,  45],\n",
              "         [ 50,  48,  43],\n",
              "         ...,\n",
              "         [158, 132, 108],\n",
              "         [152, 125, 102],\n",
              "         [148, 124, 103]],\n",
              "\n",
              "        [[ 16,  20,  20],\n",
              "         [  0,   0,   0],\n",
              "         [ 18,   8,   0],\n",
              "         ...,\n",
              "         [123,  88,  55],\n",
              "         [119,  83,  50],\n",
              "         [122,  87,  57]],\n",
              "\n",
              "        [[ 25,  24,  21],\n",
              "         [ 16,   7,   0],\n",
              "         [ 49,  27,   8],\n",
              "         ...,\n",
              "         [118,  84,  50],\n",
              "         [120,  84,  50],\n",
              "         [109,  73,  42]],\n",
              "\n",
              "        ...,\n",
              "\n",
              "        [[208, 170,  96],\n",
              "         [201, 153,  34],\n",
              "         [198, 161,  26],\n",
              "         ...,\n",
              "         [160, 133,  70],\n",
              "         [ 56,  31,   7],\n",
              "         [ 53,  34,  20]],\n",
              "\n",
              "        [[180, 139,  96],\n",
              "         [173, 123,  42],\n",
              "         [186, 144,  30],\n",
              "         ...,\n",
              "         [184, 148,  94],\n",
              "         [ 97,  62,  34],\n",
              "         [ 83,  53,  34]],\n",
              "\n",
              "        [[177, 144, 116],\n",
              "         [168, 129,  94],\n",
              "         [179, 142,  87],\n",
              "         ...,\n",
              "         [216, 184, 140],\n",
              "         [151, 118,  84],\n",
              "         [123,  92,  72]]],\n",
              "\n",
              "\n",
              "       [[[154, 177, 187],\n",
              "         [126, 137, 136],\n",
              "         [105, 104,  95],\n",
              "         ...,\n",
              "         [ 91,  95,  71],\n",
              "         [ 87,  90,  71],\n",
              "         [ 79,  81,  70]],\n",
              "\n",
              "        [[140, 160, 169],\n",
              "         [145, 153, 154],\n",
              "         [125, 125, 118],\n",
              "         ...,\n",
              "         [ 96,  99,  78],\n",
              "         [ 77,  80,  62],\n",
              "         [ 71,  73,  61]],\n",
              "\n",
              "        [[140, 155, 164],\n",
              "         [139, 146, 149],\n",
              "         [115, 115, 112],\n",
              "         ...,\n",
              "         [ 79,  82,  64],\n",
              "         [ 68,  70,  55],\n",
              "         [ 67,  69,  55]],\n",
              "\n",
              "        ...,\n",
              "\n",
              "        [[175, 167, 166],\n",
              "         [156, 154, 160],\n",
              "         [154, 160, 170],\n",
              "         ...,\n",
              "         [ 42,  34,  36],\n",
              "         [ 61,  53,  57],\n",
              "         [ 93,  83,  91]],\n",
              "\n",
              "        [[165, 154, 128],\n",
              "         [156, 152, 130],\n",
              "         [159, 161, 142],\n",
              "         ...,\n",
              "         [103,  93,  96],\n",
              "         [123, 114, 120],\n",
              "         [131, 121, 131]],\n",
              "\n",
              "        [[163, 148, 120],\n",
              "         [158, 148, 122],\n",
              "         [163, 156, 133],\n",
              "         ...,\n",
              "         [143, 133, 139],\n",
              "         [143, 134, 142],\n",
              "         [143, 133, 144]]],\n",
              "\n",
              "\n",
              "       [[[255, 255, 255],\n",
              "         [253, 253, 253],\n",
              "         [253, 253, 253],\n",
              "         ...,\n",
              "         [253, 253, 253],\n",
              "         [253, 253, 253],\n",
              "         [253, 253, 253]],\n",
              "\n",
              "        [[255, 255, 255],\n",
              "         [255, 255, 255],\n",
              "         [255, 255, 255],\n",
              "         ...,\n",
              "         [255, 255, 255],\n",
              "         [255, 255, 255],\n",
              "         [255, 255, 255]],\n",
              "\n",
              "        [[255, 255, 255],\n",
              "         [254, 254, 254],\n",
              "         [254, 254, 254],\n",
              "         ...,\n",
              "         [254, 254, 254],\n",
              "         [254, 254, 254],\n",
              "         [254, 254, 254]],\n",
              "\n",
              "        ...,\n",
              "\n",
              "        [[113, 120, 112],\n",
              "         [111, 118, 111],\n",
              "         [105, 112, 106],\n",
              "         ...,\n",
              "         [ 72,  81,  80],\n",
              "         [ 72,  80,  79],\n",
              "         [ 72,  80,  79]],\n",
              "\n",
              "        [[111, 118, 110],\n",
              "         [104, 111, 104],\n",
              "         [ 99, 106,  98],\n",
              "         ...,\n",
              "         [ 68,  75,  73],\n",
              "         [ 70,  76,  75],\n",
              "         [ 78,  84,  82]],\n",
              "\n",
              "        [[106, 113, 105],\n",
              "         [ 99, 106,  98],\n",
              "         [ 95, 102,  94],\n",
              "         ...,\n",
              "         [ 78,  85,  83],\n",
              "         [ 79,  85,  83],\n",
              "         [ 80,  86,  84]]],\n",
              "\n",
              "\n",
              "       ...,\n",
              "\n",
              "\n",
              "       [[[ 35, 178, 235],\n",
              "         [ 40, 176, 239],\n",
              "         [ 42, 176, 241],\n",
              "         ...,\n",
              "         [ 99, 177, 219],\n",
              "         [ 79, 147, 197],\n",
              "         [ 89, 148, 189]],\n",
              "\n",
              "        [[ 57, 182, 234],\n",
              "         [ 44, 184, 250],\n",
              "         [ 50, 183, 240],\n",
              "         ...,\n",
              "         [156, 182, 200],\n",
              "         [141, 177, 206],\n",
              "         [116, 149, 175]],\n",
              "\n",
              "        [[ 98, 197, 237],\n",
              "         [ 64, 189, 252],\n",
              "         [ 69, 192, 245],\n",
              "         ...,\n",
              "         [188, 195, 206],\n",
              "         [119, 135, 147],\n",
              "         [ 61,  79,  90]],\n",
              "\n",
              "        ...,\n",
              "\n",
              "        [[ 73,  79,  77],\n",
              "         [ 53,  63,  68],\n",
              "         [ 54,  68,  80],\n",
              "         ...,\n",
              "         [ 17,  40,  64],\n",
              "         [ 21,  36,  51],\n",
              "         [ 33,  48,  49]],\n",
              "\n",
              "        [[ 61,  68,  75],\n",
              "         [ 55,  70,  86],\n",
              "         [ 57,  79, 103],\n",
              "         ...,\n",
              "         [ 24,  48,  72],\n",
              "         [ 17,  35,  53],\n",
              "         [  7,  23,  32]],\n",
              "\n",
              "        [[ 44,  56,  73],\n",
              "         [ 46,  66,  88],\n",
              "         [ 49,  77, 105],\n",
              "         ...,\n",
              "         [ 27,  52,  77],\n",
              "         [ 21,  43,  66],\n",
              "         [ 12,  31,  50]]],\n",
              "\n",
              "\n",
              "       [[[189, 211, 240],\n",
              "         [186, 208, 236],\n",
              "         [185, 207, 235],\n",
              "         ...,\n",
              "         [175, 195, 224],\n",
              "         [172, 194, 222],\n",
              "         [169, 194, 220]],\n",
              "\n",
              "        [[194, 210, 239],\n",
              "         [191, 207, 236],\n",
              "         [190, 206, 235],\n",
              "         ...,\n",
              "         [173, 192, 220],\n",
              "         [171, 191, 218],\n",
              "         [167, 190, 216]],\n",
              "\n",
              "        [[208, 219, 244],\n",
              "         [205, 216, 240],\n",
              "         [204, 215, 239],\n",
              "         ...,\n",
              "         [175, 191, 217],\n",
              "         [172, 190, 216],\n",
              "         [169, 191, 215]],\n",
              "\n",
              "        ...,\n",
              "\n",
              "        [[207, 199, 181],\n",
              "         [203, 195, 175],\n",
              "         [203, 196, 173],\n",
              "         ...,\n",
              "         [135, 132, 127],\n",
              "         [162, 158, 150],\n",
              "         [168, 163, 151]],\n",
              "\n",
              "        [[198, 190, 170],\n",
              "         [189, 181, 159],\n",
              "         [180, 172, 147],\n",
              "         ...,\n",
              "         [178, 171, 160],\n",
              "         [175, 169, 156],\n",
              "         [175, 169, 154]],\n",
              "\n",
              "        [[198, 189, 173],\n",
              "         [189, 181, 162],\n",
              "         [178, 170, 149],\n",
              "         ...,\n",
              "         [195, 184, 169],\n",
              "         [196, 189, 171],\n",
              "         [195, 190, 171]]],\n",
              "\n",
              "\n",
              "       [[[229, 229, 239],\n",
              "         [236, 237, 247],\n",
              "         [234, 236, 247],\n",
              "         ...,\n",
              "         [217, 219, 233],\n",
              "         [221, 223, 234],\n",
              "         [222, 223, 233]],\n",
              "\n",
              "        [[222, 221, 229],\n",
              "         [239, 239, 249],\n",
              "         [233, 234, 246],\n",
              "         ...,\n",
              "         [223, 223, 236],\n",
              "         [227, 228, 238],\n",
              "         [210, 211, 220]],\n",
              "\n",
              "        [[213, 206, 211],\n",
              "         [234, 232, 239],\n",
              "         [231, 233, 244],\n",
              "         ...,\n",
              "         [220, 220, 232],\n",
              "         [220, 219, 232],\n",
              "         [202, 203, 215]],\n",
              "\n",
              "        ...,\n",
              "\n",
              "        [[150, 143, 135],\n",
              "         [140, 135, 127],\n",
              "         [132, 127, 120],\n",
              "         ...,\n",
              "         [224, 222, 218],\n",
              "         [230, 228, 225],\n",
              "         [241, 241, 238]],\n",
              "\n",
              "        [[137, 132, 126],\n",
              "         [130, 127, 120],\n",
              "         [125, 121, 115],\n",
              "         ...,\n",
              "         [181, 180, 178],\n",
              "         [202, 201, 198],\n",
              "         [212, 211, 207]],\n",
              "\n",
              "        [[122, 119, 114],\n",
              "         [118, 116, 110],\n",
              "         [120, 116, 111],\n",
              "         ...,\n",
              "         [179, 177, 173],\n",
              "         [164, 164, 162],\n",
              "         [163, 163, 161]]]], dtype=uint8)"
            ]
          },
          "metadata": {},
          "execution_count": 5
        }
      ]
    },
    {
      "cell_type": "code",
      "source": [
        "X_train=X_train/255.\n",
        "X_test=X_test/255."
      ],
      "metadata": {
        "id": "zZWoQa-SA6tl"
      },
      "execution_count": 7,
      "outputs": []
    },
    {
      "cell_type": "code",
      "source": [
        "X_train.dtype"
      ],
      "metadata": {
        "colab": {
          "base_uri": "https://localhost:8080/"
        },
        "id": "yQNGdWK8BPiL",
        "outputId": "efaf105f-0a3a-43f0-8d5e-465569c0c146"
      },
      "execution_count": 9,
      "outputs": [
        {
          "output_type": "execute_result",
          "data": {
            "text/plain": [
              "dtype('float64')"
            ]
          },
          "metadata": {},
          "execution_count": 9
        }
      ]
    },
    {
      "cell_type": "code",
      "source": [
        "plt.imshow(X_test[10])\n",
        "print(y_test[10])"
      ],
      "metadata": {
        "colab": {
          "base_uri": "https://localhost:8080/",
          "height": 283
        },
        "id": "hmENVsqlBbYk",
        "outputId": "69e89407-5cda-43c5-f46b-a6449d222c52"
      },
      "execution_count": 14,
      "outputs": [
        {
          "output_type": "stream",
          "name": "stdout",
          "text": [
            "[0]\n"
          ]
        },
        {
          "output_type": "display_data",
          "data": {
            "image/png": "[encoded data removed]",
            "text/plain": [
              "<Figure size 432x288 with 1 Axes>"
            ]
          },
          "metadata": {
            "needs_background": "light"
          }
        }
      ]
    },
    {
      "cell_type": "code",
      "source": [
        "class_names = ['airplane', 'automobile', 'bird', 'cat', 'deer', 'dog', 'frog', 'horse', 'ship', 'truck']"
      ],
      "metadata": {
        "id": "pXw9fwn-BhAH"
      },
      "execution_count": 15,
      "outputs": []
    },
    {
      "cell_type": "code",
      "source": [
        "model = tf.keras.models.Sequential()"
      ],
      "metadata": {
        "id": "3AklF7DlB3Bu"
      },
      "execution_count": 18,
      "outputs": []
    },
    {
      "cell_type": "code",
      "source": [
        "X_train.shape, X_test.shape"
      ],
      "metadata": {
        "colab": {
          "base_uri": "https://localhost:8080/"
        },
        "id": "wW1F7ffEB-gL",
        "outputId": "26c870db-0b0c-4b02-fa77-61fb4eaba898"
      },
      "execution_count": 19,
      "outputs": [
        {
          "output_type": "execute_result",
          "data": {
            "text/plain": [
              "((50000, 32, 32, 3), (10000, 32, 32, 3))"
            ]
          },
          "metadata": {},
          "execution_count": 19
        }
      ]
    },
    {
      "cell_type": "code",
      "source": [
        "model.add(tf.keras.layers.Conv2D(filters=32,kernel_size=3, padding = 'same',activation='relu',input_shape=[32,32,3]))"
      ],
      "metadata": {
        "id": "mTK83C38CLMo"
      },
      "execution_count": 22,
      "outputs": []
    },
    {
      "cell_type": "code",
      "source": [
        "model.add(tf.keras.layers.Conv2D(filters=32,kernel_size=3, padding = 'same',activation='relu'))"
      ],
      "metadata": {
        "id": "x8fCxtZ6C7O3"
      },
      "execution_count": 23,
      "outputs": []
    },
    {
      "cell_type": "code",
      "source": [
        "model.add(tf.keras.layers.MaxPool2D(pool_size = 2,strides=2,padding = 'valid'))"
      ],
      "metadata": {
        "id": "8iARAoP4EFMC"
      },
      "execution_count": 24,
      "outputs": []
    },
    {
      "cell_type": "code",
      "source": [
        "model.add(tf.keras.layers.Conv2D(filters=64,kernel_size=3,padding='same',activation='relu'))"
      ],
      "metadata": {
        "id": "dh13fJSPETgs"
      },
      "execution_count": 26,
      "outputs": []
    },
    {
      "cell_type": "code",
      "source": [
        "model.add(tf.keras.layers.Conv2D(filters=64,kernel_size=3,padding = 'same',activation='relu'))\n",
        "\n",
        "model.add(tf.keras.layers.MaxPool2D(pool_size=2,strides=2,padding='valid'))"
      ],
      "metadata": {
        "id": "CJlLx8mDEwZr"
      },
      "execution_count": 29,
      "outputs": []
    },
    {
      "cell_type": "code",
      "source": [
        "model.add(tf.keras.layers.Flatten())"
      ],
      "metadata": {
        "id": "spfDntY_FSwf"
      },
      "execution_count": 30,
      "outputs": []
    },
    {
      "cell_type": "code",
      "source": [
        "model.add(tf.keras.layers.Dense(units=128,activation='relu'))\n",
        "\n"
      ],
      "metadata": {
        "id": "UhgRWcnzFhuJ"
      },
      "execution_count": 31,
      "outputs": []
    },
    {
      "cell_type": "code",
      "source": [
        "model.add(tf.keras.layers.Dense(units=10,activation='softmax'))"
      ],
      "metadata": {
        "id": "WvhBu1G-Fq4T"
      },
      "execution_count": 32,
      "outputs": []
    },
    {
      "cell_type": "code",
      "source": [
        "model.summary()"
      ],
      "metadata": {
        "colab": {
          "base_uri": "https://localhost:8080/"
        },
        "id": "xsaDHbDUF8IU",
        "outputId": "0bfc5434-a01d-444c-d402-dd4f46c2667c"
      },
      "execution_count": 33,
      "outputs": [
        {
          "output_type": "stream",
          "name": "stdout",
          "text": [
            "Model: \"sequential_1\"\n",
            "_________________________________________________________________\n",
            " Layer (type)                Output Shape              Param #   \n",
            "=================================================================\n",
            " conv2d (Conv2D)             (None, 32, 32, 32)        896       \n",
            "                                                                 \n",
            " conv2d_1 (Conv2D)           (None, 32, 32, 32)        9248      \n",
            "                                                                 \n",
            " max_pooling2d (MaxPooling2D  (None, 16, 16, 32)       0         \n",
            " )                                                               \n",
            "                                                                 \n",
            " conv2d_2 (Conv2D)           (None, 16, 16, 64)        18496     \n",
            "                                                                 \n",
            " conv2d_3 (Conv2D)           (None, 16, 16, 64)        36928     \n",
            "                                                                 \n",
            " conv2d_4 (Conv2D)           (None, 16, 16, 64)        36928     \n",
            "                                                                 \n",
            " max_pooling2d_1 (MaxPooling  (None, 8, 8, 64)         0         \n",
            " 2D)                                                             \n",
            "                                                                 \n",
            " flatten (Flatten)           (None, 4096)              0         \n",
            "                                                                 \n",
            " dense (Dense)               (None, 128)               524416    \n",
            "                                                                 \n",
            " dense_1 (Dense)             (None, 10)                1290      \n",
            "                                                                 \n",
            "=================================================================\n",
            "Total params: 628,202\n",
            "Trainable params: 628,202\n",
            "Non-trainable params: 0\n",
            "_________________________________________________________________\n"
          ]
        }
      ]
    },
    {
      "cell_type": "code",
      "source": [
        "model.compile(loss='sparse_categorical_crossentropy',optimizer = 'Adam',metrics=['sparse_categorical_accuracy'])"
      ],
      "metadata": {
        "id": "FrZJldl5F-HH"
      },
      "execution_count": 34,
      "outputs": []
    },
    {
      "cell_type": "code",
      "source": [
        "model.fit(X_train,y_train,batch_size=32,\n",
        "          epochs=100\n",
        "          ,verbose=2,\n",
        "          validation_data=(X_test,y_test)\n",
        "          \n",
        "          )"
      ],
      "metadata": {
        "colab": {
          "base_uri": "https://localhost:8080/"
        },
        "id": "bm3Q-pvoGe10",
        "outputId": "f0029527-038d-4261-d5d1-89b2d18ade51"
      },
      "execution_count": 37,
      "outputs": [
        {
          "output_type": "stream",
          "name": "stdout",
          "text": [
            "Epoch 1/100\n",
            "1563/1563 - 8s - loss: 0.8043 - sparse_categorical_accuracy: 0.7201 - val_loss: 0.8326 - val_sparse_categorical_accuracy: 0.7110 - 8s/epoch - 5ms/step\n",
            "Epoch 2/100\n",
            "1563/1563 - 8s - loss: 0.6675 - sparse_categorical_accuracy: 0.7653 - val_loss: 0.7942 - val_sparse_categorical_accuracy: 0.7302 - 8s/epoch - 5ms/step\n",
            "Epoch 3/100\n",
            "1563/1563 - 8s - loss: 0.5497 - sparse_categorical_accuracy: 0.8062 - val_loss: 0.7556 - val_sparse_categorical_accuracy: 0.7501 - 8s/epoch - 5ms/step\n",
            "Epoch 4/100\n",
            "1563/1563 - 8s - loss: 0.4424 - sparse_categorical_accuracy: 0.8449 - val_loss: 0.8075 - val_sparse_categorical_accuracy: 0.7457 - 8s/epoch - 5ms/step\n",
            "Epoch 5/100\n",
            "1563/1563 - 8s - loss: 0.3572 - sparse_categorical_accuracy: 0.8723 - val_loss: 0.8474 - val_sparse_categorical_accuracy: 0.7489 - 8s/epoch - 5ms/step\n",
            "Epoch 6/100\n",
            "1563/1563 - 8s - loss: 0.2827 - sparse_categorical_accuracy: 0.8996 - val_loss: 0.9406 - val_sparse_categorical_accuracy: 0.7466 - 8s/epoch - 5ms/step\n",
            "Epoch 7/100\n",
            "1563/1563 - 9s - loss: 0.2264 - sparse_categorical_accuracy: 0.9198 - val_loss: 1.0584 - val_sparse_categorical_accuracy: 0.7375 - 9s/epoch - 6ms/step\n",
            "Epoch 8/100\n",
            "1563/1563 - 9s - loss: 0.1974 - sparse_categorical_accuracy: 0.9298 - val_loss: 1.1789 - val_sparse_categorical_accuracy: 0.7442 - 9s/epoch - 5ms/step\n",
            "Epoch 9/100\n",
            "1563/1563 - 8s - loss: 0.1700 - sparse_categorical_accuracy: 0.9399 - val_loss: 1.1992 - val_sparse_categorical_accuracy: 0.7312 - 8s/epoch - 5ms/step\n",
            "Epoch 10/100\n",
            "1563/1563 - 8s - loss: 0.1515 - sparse_categorical_accuracy: 0.9460 - val_loss: 1.3527 - val_sparse_categorical_accuracy: 0.7258 - 8s/epoch - 5ms/step\n",
            "Epoch 11/100\n",
            "1563/1563 - 8s - loss: 0.1339 - sparse_categorical_accuracy: 0.9532 - val_loss: 1.3687 - val_sparse_categorical_accuracy: 0.7327 - 8s/epoch - 5ms/step\n",
            "Epoch 12/100\n",
            "1563/1563 - 8s - loss: 0.1384 - sparse_categorical_accuracy: 0.9517 - val_loss: 1.5898 - val_sparse_categorical_accuracy: 0.7276 - 8s/epoch - 5ms/step\n",
            "Epoch 13/100\n",
            "1563/1563 - 8s - loss: 0.1196 - sparse_categorical_accuracy: 0.9586 - val_loss: 1.5684 - val_sparse_categorical_accuracy: 0.7357 - 8s/epoch - 5ms/step\n",
            "Epoch 14/100\n",
            "1563/1563 - 8s - loss: 0.1134 - sparse_categorical_accuracy: 0.9621 - val_loss: 1.5629 - val_sparse_categorical_accuracy: 0.7289 - 8s/epoch - 5ms/step\n",
            "Epoch 15/100\n",
            "1563/1563 - 8s - loss: 0.1160 - sparse_categorical_accuracy: 0.9610 - val_loss: 1.4786 - val_sparse_categorical_accuracy: 0.7340 - 8s/epoch - 5ms/step\n",
            "Epoch 16/100\n",
            "1563/1563 - 8s - loss: 0.1069 - sparse_categorical_accuracy: 0.9644 - val_loss: 1.6026 - val_sparse_categorical_accuracy: 0.7417 - 8s/epoch - 5ms/step\n",
            "Epoch 17/100\n",
            "1563/1563 - 8s - loss: 0.1002 - sparse_categorical_accuracy: 0.9675 - val_loss: 1.7841 - val_sparse_categorical_accuracy: 0.7395 - 8s/epoch - 5ms/step\n",
            "Epoch 18/100\n",
            "1563/1563 - 8s - loss: 0.1017 - sparse_categorical_accuracy: 0.9673 - val_loss: 1.6571 - val_sparse_categorical_accuracy: 0.7279 - 8s/epoch - 5ms/step\n",
            "Epoch 19/100\n",
            "1563/1563 - 8s - loss: 0.0983 - sparse_categorical_accuracy: 0.9676 - val_loss: 1.8278 - val_sparse_categorical_accuracy: 0.7295 - 8s/epoch - 5ms/step\n",
            "Epoch 20/100\n",
            "1563/1563 - 8s - loss: 0.0993 - sparse_categorical_accuracy: 0.9669 - val_loss: 1.8313 - val_sparse_categorical_accuracy: 0.7331 - 8s/epoch - 5ms/step\n",
            "Epoch 21/100\n",
            "1563/1563 - 8s - loss: 0.0828 - sparse_categorical_accuracy: 0.9733 - val_loss: 2.2085 - val_sparse_categorical_accuracy: 0.7222 - 8s/epoch - 5ms/step\n",
            "Epoch 22/100\n",
            "1563/1563 - 8s - loss: 0.0946 - sparse_categorical_accuracy: 0.9702 - val_loss: 1.9602 - val_sparse_categorical_accuracy: 0.7288 - 8s/epoch - 5ms/step\n",
            "Epoch 23/100\n",
            "1563/1563 - 8s - loss: 0.0927 - sparse_categorical_accuracy: 0.9708 - val_loss: 1.8870 - val_sparse_categorical_accuracy: 0.7317 - 8s/epoch - 5ms/step\n",
            "Epoch 24/100\n",
            "1563/1563 - 8s - loss: 0.0782 - sparse_categorical_accuracy: 0.9756 - val_loss: 2.0532 - val_sparse_categorical_accuracy: 0.7282 - 8s/epoch - 5ms/step\n",
            "Epoch 25/100\n",
            "1563/1563 - 8s - loss: 0.0894 - sparse_categorical_accuracy: 0.9722 - val_loss: 2.0322 - val_sparse_categorical_accuracy: 0.7292 - 8s/epoch - 5ms/step\n",
            "Epoch 26/100\n",
            "1563/1563 - 8s - loss: 0.0806 - sparse_categorical_accuracy: 0.9749 - val_loss: 2.1353 - val_sparse_categorical_accuracy: 0.7217 - 8s/epoch - 5ms/step\n",
            "Epoch 27/100\n",
            "1563/1563 - 8s - loss: 0.0822 - sparse_categorical_accuracy: 0.9744 - val_loss: 2.1286 - val_sparse_categorical_accuracy: 0.7231 - 8s/epoch - 5ms/step\n",
            "Epoch 28/100\n",
            "1563/1563 - 8s - loss: 0.0859 - sparse_categorical_accuracy: 0.9727 - val_loss: 2.1676 - val_sparse_categorical_accuracy: 0.7230 - 8s/epoch - 5ms/step\n",
            "Epoch 29/100\n",
            "1563/1563 - 8s - loss: 0.0791 - sparse_categorical_accuracy: 0.9760 - val_loss: 2.0374 - val_sparse_categorical_accuracy: 0.7246 - 8s/epoch - 5ms/step\n",
            "Epoch 30/100\n",
            "1563/1563 - 8s - loss: 0.0827 - sparse_categorical_accuracy: 0.9748 - val_loss: 2.0903 - val_sparse_categorical_accuracy: 0.7310 - 8s/epoch - 5ms/step\n",
            "Epoch 31/100\n",
            "1563/1563 - 8s - loss: 0.0742 - sparse_categorical_accuracy: 0.9774 - val_loss: 2.1895 - val_sparse_categorical_accuracy: 0.7168 - 8s/epoch - 5ms/step\n",
            "Epoch 32/100\n",
            "1563/1563 - 8s - loss: 0.0804 - sparse_categorical_accuracy: 0.9762 - val_loss: 2.2466 - val_sparse_categorical_accuracy: 0.7289 - 8s/epoch - 5ms/step\n",
            "Epoch 33/100\n",
            "1563/1563 - 8s - loss: 0.0778 - sparse_categorical_accuracy: 0.9761 - val_loss: 2.2263 - val_sparse_categorical_accuracy: 0.7264 - 8s/epoch - 5ms/step\n",
            "Epoch 34/100\n",
            "1563/1563 - 8s - loss: 0.0792 - sparse_categorical_accuracy: 0.9760 - val_loss: 2.2744 - val_sparse_categorical_accuracy: 0.7346 - 8s/epoch - 5ms/step\n",
            "Epoch 35/100\n",
            "1563/1563 - 8s - loss: 0.0682 - sparse_categorical_accuracy: 0.9795 - val_loss: 2.2584 - val_sparse_categorical_accuracy: 0.7307 - 8s/epoch - 5ms/step\n",
            "Epoch 36/100\n",
            "1563/1563 - 8s - loss: 0.0698 - sparse_categorical_accuracy: 0.9797 - val_loss: 2.4489 - val_sparse_categorical_accuracy: 0.7249 - 8s/epoch - 5ms/step\n",
            "Epoch 37/100\n",
            "1563/1563 - 8s - loss: 0.0792 - sparse_categorical_accuracy: 0.9760 - val_loss: 2.2997 - val_sparse_categorical_accuracy: 0.7198 - 8s/epoch - 5ms/step\n",
            "Epoch 38/100\n",
            "1563/1563 - 8s - loss: 0.0728 - sparse_categorical_accuracy: 0.9792 - val_loss: 2.4299 - val_sparse_categorical_accuracy: 0.7324 - 8s/epoch - 5ms/step\n",
            "Epoch 39/100\n",
            "1563/1563 - 8s - loss: 0.0695 - sparse_categorical_accuracy: 0.9794 - val_loss: 2.5162 - val_sparse_categorical_accuracy: 0.7146 - 8s/epoch - 5ms/step\n",
            "Epoch 40/100\n",
            "1563/1563 - 8s - loss: 0.0697 - sparse_categorical_accuracy: 0.9796 - val_loss: 2.2715 - val_sparse_categorical_accuracy: 0.7295 - 8s/epoch - 5ms/step\n",
            "Epoch 41/100\n",
            "1563/1563 - 8s - loss: 0.0724 - sparse_categorical_accuracy: 0.9786 - val_loss: 2.4625 - val_sparse_categorical_accuracy: 0.7248 - 8s/epoch - 5ms/step\n",
            "Epoch 42/100\n",
            "1563/1563 - 8s - loss: 0.0734 - sparse_categorical_accuracy: 0.9791 - val_loss: 2.3050 - val_sparse_categorical_accuracy: 0.7296 - 8s/epoch - 5ms/step\n",
            "Epoch 43/100\n",
            "1563/1563 - 8s - loss: 0.0617 - sparse_categorical_accuracy: 0.9817 - val_loss: 2.4871 - val_sparse_categorical_accuracy: 0.7248 - 8s/epoch - 5ms/step\n",
            "Epoch 44/100\n",
            "1563/1563 - 8s - loss: 0.0750 - sparse_categorical_accuracy: 0.9781 - val_loss: 2.5216 - val_sparse_categorical_accuracy: 0.7205 - 8s/epoch - 5ms/step\n",
            "Epoch 45/100\n",
            "1563/1563 - 9s - loss: 0.0673 - sparse_categorical_accuracy: 0.9800 - val_loss: 2.5301 - val_sparse_categorical_accuracy: 0.7311 - 9s/epoch - 5ms/step\n",
            "Epoch 46/100\n",
            "1563/1563 - 8s - loss: 0.0666 - sparse_categorical_accuracy: 0.9806 - val_loss: 2.6236 - val_sparse_categorical_accuracy: 0.7287 - 8s/epoch - 5ms/step\n",
            "Epoch 47/100\n",
            "1563/1563 - 8s - loss: 0.0668 - sparse_categorical_accuracy: 0.9806 - val_loss: 2.6414 - val_sparse_categorical_accuracy: 0.7223 - 8s/epoch - 5ms/step\n",
            "Epoch 48/100\n",
            "1563/1563 - 9s - loss: 0.0745 - sparse_categorical_accuracy: 0.9780 - val_loss: 2.8077 - val_sparse_categorical_accuracy: 0.7268 - 9s/epoch - 5ms/step\n",
            "Epoch 49/100\n",
            "1563/1563 - 8s - loss: 0.0701 - sparse_categorical_accuracy: 0.9801 - val_loss: 2.4943 - val_sparse_categorical_accuracy: 0.7262 - 8s/epoch - 5ms/step\n",
            "Epoch 50/100\n",
            "1563/1563 - 8s - loss: 0.0626 - sparse_categorical_accuracy: 0.9821 - val_loss: 2.8917 - val_sparse_categorical_accuracy: 0.7209 - 8s/epoch - 5ms/step\n",
            "Epoch 51/100\n",
            "1563/1563 - 8s - loss: 0.0753 - sparse_categorical_accuracy: 0.9798 - val_loss: 2.6325 - val_sparse_categorical_accuracy: 0.7288 - 8s/epoch - 5ms/step\n",
            "Epoch 52/100\n",
            "1563/1563 - 9s - loss: 0.0653 - sparse_categorical_accuracy: 0.9819 - val_loss: 3.0077 - val_sparse_categorical_accuracy: 0.7056 - 9s/epoch - 5ms/step\n",
            "Epoch 53/100\n",
            "1563/1563 - 8s - loss: 0.0734 - sparse_categorical_accuracy: 0.9800 - val_loss: 3.0153 - val_sparse_categorical_accuracy: 0.7207 - 8s/epoch - 5ms/step\n",
            "Epoch 54/100\n",
            "1563/1563 - 8s - loss: 0.0632 - sparse_categorical_accuracy: 0.9824 - val_loss: 2.9807 - val_sparse_categorical_accuracy: 0.7214 - 8s/epoch - 5ms/step\n",
            "Epoch 55/100\n",
            "1563/1563 - 8s - loss: 0.0726 - sparse_categorical_accuracy: 0.9803 - val_loss: 2.6741 - val_sparse_categorical_accuracy: 0.7285 - 8s/epoch - 5ms/step\n",
            "Epoch 56/100\n",
            "1563/1563 - 8s - loss: 0.0654 - sparse_categorical_accuracy: 0.9825 - val_loss: 2.7611 - val_sparse_categorical_accuracy: 0.7291 - 8s/epoch - 5ms/step\n",
            "Epoch 57/100\n",
            "1563/1563 - 8s - loss: 0.0628 - sparse_categorical_accuracy: 0.9836 - val_loss: 2.9420 - val_sparse_categorical_accuracy: 0.7196 - 8s/epoch - 5ms/step\n",
            "Epoch 58/100\n",
            "1563/1563 - 8s - loss: 0.0763 - sparse_categorical_accuracy: 0.9801 - val_loss: 2.6761 - val_sparse_categorical_accuracy: 0.7309 - 8s/epoch - 5ms/step\n",
            "Epoch 59/100\n",
            "1563/1563 - 8s - loss: 0.0613 - sparse_categorical_accuracy: 0.9830 - val_loss: 3.0803 - val_sparse_categorical_accuracy: 0.7209 - 8s/epoch - 5ms/step\n",
            "Epoch 60/100\n",
            "1563/1563 - 8s - loss: 0.0686 - sparse_categorical_accuracy: 0.9813 - val_loss: 3.1610 - val_sparse_categorical_accuracy: 0.7302 - 8s/epoch - 5ms/step\n",
            "Epoch 61/100\n",
            "1563/1563 - 8s - loss: 0.0703 - sparse_categorical_accuracy: 0.9807 - val_loss: 2.8583 - val_sparse_categorical_accuracy: 0.7325 - 8s/epoch - 5ms/step\n",
            "Epoch 62/100\n",
            "1563/1563 - 8s - loss: 0.0692 - sparse_categorical_accuracy: 0.9818 - val_loss: 3.0129 - val_sparse_categorical_accuracy: 0.7282 - 8s/epoch - 5ms/step\n",
            "Epoch 63/100\n",
            "1563/1563 - 8s - loss: 0.0690 - sparse_categorical_accuracy: 0.9821 - val_loss: 2.8736 - val_sparse_categorical_accuracy: 0.7349 - 8s/epoch - 5ms/step\n",
            "Epoch 64/100\n",
            "1563/1563 - 8s - loss: 0.0696 - sparse_categorical_accuracy: 0.9823 - val_loss: 3.0273 - val_sparse_categorical_accuracy: 0.7292 - 8s/epoch - 5ms/step\n",
            "Epoch 65/100\n",
            "1563/1563 - 8s - loss: 0.0590 - sparse_categorical_accuracy: 0.9846 - val_loss: 3.2380 - val_sparse_categorical_accuracy: 0.7213 - 8s/epoch - 5ms/step\n",
            "Epoch 66/100\n",
            "1563/1563 - 8s - loss: 0.0706 - sparse_categorical_accuracy: 0.9814 - val_loss: 3.2447 - val_sparse_categorical_accuracy: 0.7247 - 8s/epoch - 5ms/step\n",
            "Epoch 67/100\n",
            "1563/1563 - 8s - loss: 0.0761 - sparse_categorical_accuracy: 0.9807 - val_loss: 3.2317 - val_sparse_categorical_accuracy: 0.7242 - 8s/epoch - 5ms/step\n",
            "Epoch 68/100\n",
            "1563/1563 - 8s - loss: 0.0694 - sparse_categorical_accuracy: 0.9830 - val_loss: 2.9463 - val_sparse_categorical_accuracy: 0.7269 - 8s/epoch - 5ms/step\n",
            "Epoch 69/100\n",
            "1563/1563 - 8s - loss: 0.0637 - sparse_categorical_accuracy: 0.9843 - val_loss: 3.1465 - val_sparse_categorical_accuracy: 0.7204 - 8s/epoch - 5ms/step\n",
            "Epoch 70/100\n",
            "1563/1563 - 8s - loss: 0.0653 - sparse_categorical_accuracy: 0.9835 - val_loss: 3.3632 - val_sparse_categorical_accuracy: 0.7250 - 8s/epoch - 5ms/step\n",
            "Epoch 71/100\n",
            "1563/1563 - 8s - loss: 0.0706 - sparse_categorical_accuracy: 0.9826 - val_loss: 3.4724 - val_sparse_categorical_accuracy: 0.7199 - 8s/epoch - 5ms/step\n",
            "Epoch 72/100\n",
            "1563/1563 - 8s - loss: 0.0685 - sparse_categorical_accuracy: 0.9835 - val_loss: 3.4916 - val_sparse_categorical_accuracy: 0.7217 - 8s/epoch - 5ms/step\n",
            "Epoch 73/100\n",
            "1563/1563 - 8s - loss: 0.0598 - sparse_categorical_accuracy: 0.9847 - val_loss: 3.5936 - val_sparse_categorical_accuracy: 0.7247 - 8s/epoch - 5ms/step\n",
            "Epoch 74/100\n",
            "1563/1563 - 8s - loss: 0.0689 - sparse_categorical_accuracy: 0.9831 - val_loss: 3.2396 - val_sparse_categorical_accuracy: 0.7223 - 8s/epoch - 5ms/step\n",
            "Epoch 75/100\n",
            "1563/1563 - 8s - loss: 0.0676 - sparse_categorical_accuracy: 0.9826 - val_loss: 3.5438 - val_sparse_categorical_accuracy: 0.7286 - 8s/epoch - 5ms/step\n",
            "Epoch 76/100\n",
            "1563/1563 - 8s - loss: 0.0686 - sparse_categorical_accuracy: 0.9832 - val_loss: 3.4059 - val_sparse_categorical_accuracy: 0.7313 - 8s/epoch - 5ms/step\n",
            "Epoch 77/100\n",
            "1563/1563 - 8s - loss: 0.0667 - sparse_categorical_accuracy: 0.9844 - val_loss: 3.4563 - val_sparse_categorical_accuracy: 0.7192 - 8s/epoch - 5ms/step\n",
            "Epoch 78/100\n",
            "1563/1563 - 8s - loss: 0.0640 - sparse_categorical_accuracy: 0.9842 - val_loss: 3.4549 - val_sparse_categorical_accuracy: 0.7257 - 8s/epoch - 5ms/step\n",
            "Epoch 79/100\n",
            "1563/1563 - 8s - loss: 0.0590 - sparse_categorical_accuracy: 0.9851 - val_loss: 3.5356 - val_sparse_categorical_accuracy: 0.7183 - 8s/epoch - 5ms/step\n",
            "Epoch 80/100\n",
            "1563/1563 - 8s - loss: 0.0715 - sparse_categorical_accuracy: 0.9834 - val_loss: 3.6000 - val_sparse_categorical_accuracy: 0.7197 - 8s/epoch - 5ms/step\n",
            "Epoch 81/100\n",
            "1563/1563 - 8s - loss: 0.0748 - sparse_categorical_accuracy: 0.9831 - val_loss: 3.8884 - val_sparse_categorical_accuracy: 0.7230 - 8s/epoch - 5ms/step\n",
            "Epoch 82/100\n",
            "1563/1563 - 8s - loss: 0.0687 - sparse_categorical_accuracy: 0.9840 - val_loss: 3.6101 - val_sparse_categorical_accuracy: 0.7177 - 8s/epoch - 5ms/step\n",
            "Epoch 83/100\n",
            "1563/1563 - 8s - loss: 0.0701 - sparse_categorical_accuracy: 0.9833 - val_loss: 3.7694 - val_sparse_categorical_accuracy: 0.7169 - 8s/epoch - 5ms/step\n",
            "Epoch 84/100\n",
            "1563/1563 - 8s - loss: 0.0649 - sparse_categorical_accuracy: 0.9851 - val_loss: 3.5217 - val_sparse_categorical_accuracy: 0.7214 - 8s/epoch - 5ms/step\n",
            "Epoch 85/100\n",
            "1563/1563 - 8s - loss: 0.0701 - sparse_categorical_accuracy: 0.9837 - val_loss: 3.5781 - val_sparse_categorical_accuracy: 0.7245 - 8s/epoch - 5ms/step\n",
            "Epoch 86/100\n",
            "1563/1563 - 8s - loss: 0.0681 - sparse_categorical_accuracy: 0.9845 - val_loss: 3.7499 - val_sparse_categorical_accuracy: 0.7265 - 8s/epoch - 5ms/step\n",
            "Epoch 87/100\n",
            "1563/1563 - 8s - loss: 0.0724 - sparse_categorical_accuracy: 0.9836 - val_loss: 3.5993 - val_sparse_categorical_accuracy: 0.7325 - 8s/epoch - 5ms/step\n",
            "Epoch 88/100\n",
            "1563/1563 - 8s - loss: 0.0634 - sparse_categorical_accuracy: 0.9849 - val_loss: 3.7383 - val_sparse_categorical_accuracy: 0.7237 - 8s/epoch - 5ms/step\n",
            "Epoch 89/100\n",
            "1563/1563 - 8s - loss: 0.0643 - sparse_categorical_accuracy: 0.9850 - val_loss: 3.8017 - val_sparse_categorical_accuracy: 0.7216 - 8s/epoch - 5ms/step\n",
            "Epoch 90/100\n",
            "1563/1563 - 8s - loss: 0.0679 - sparse_categorical_accuracy: 0.9850 - val_loss: 3.6872 - val_sparse_categorical_accuracy: 0.7178 - 8s/epoch - 5ms/step\n",
            "Epoch 91/100\n",
            "1563/1563 - 8s - loss: 0.0691 - sparse_categorical_accuracy: 0.9836 - val_loss: 3.8144 - val_sparse_categorical_accuracy: 0.7229 - 8s/epoch - 5ms/step\n",
            "Epoch 92/100\n",
            "1563/1563 - 8s - loss: 0.0652 - sparse_categorical_accuracy: 0.9863 - val_loss: 3.8401 - val_sparse_categorical_accuracy: 0.7237 - 8s/epoch - 5ms/step\n",
            "Epoch 93/100\n",
            "1563/1563 - 8s - loss: 0.0675 - sparse_categorical_accuracy: 0.9844 - val_loss: 4.1380 - val_sparse_categorical_accuracy: 0.7184 - 8s/epoch - 5ms/step\n",
            "Epoch 94/100\n",
            "1563/1563 - 8s - loss: 0.0730 - sparse_categorical_accuracy: 0.9835 - val_loss: 3.8679 - val_sparse_categorical_accuracy: 0.7182 - 8s/epoch - 5ms/step\n",
            "Epoch 95/100\n",
            "1563/1563 - 8s - loss: 0.0640 - sparse_categorical_accuracy: 0.9851 - val_loss: 3.8077 - val_sparse_categorical_accuracy: 0.7211 - 8s/epoch - 5ms/step\n",
            "Epoch 96/100\n",
            "1563/1563 - 8s - loss: 0.0704 - sparse_categorical_accuracy: 0.9844 - val_loss: 4.0907 - val_sparse_categorical_accuracy: 0.7263 - 8s/epoch - 5ms/step\n",
            "Epoch 97/100\n",
            "1563/1563 - 8s - loss: 0.0758 - sparse_categorical_accuracy: 0.9839 - val_loss: 4.0869 - val_sparse_categorical_accuracy: 0.7233 - 8s/epoch - 5ms/step\n",
            "Epoch 98/100\n",
            "1563/1563 - 8s - loss: 0.0679 - sparse_categorical_accuracy: 0.9841 - val_loss: 3.8465 - val_sparse_categorical_accuracy: 0.7294 - 8s/epoch - 5ms/step\n",
            "Epoch 99/100\n",
            "1563/1563 - 8s - loss: 0.0682 - sparse_categorical_accuracy: 0.9845 - val_loss: 4.0339 - val_sparse_categorical_accuracy: 0.7185 - 8s/epoch - 5ms/step\n",
            "Epoch 100/100\n",
            "1563/1563 - 8s - loss: 0.0695 - sparse_categorical_accuracy: 0.9848 - val_loss: 3.9296 - val_sparse_categorical_accuracy: 0.7224 - 8s/epoch - 5ms/step\n"
          ]
        },
        {
          "output_type": "execute_result",
          "data": {
            "text/plain": [
              "<keras.callbacks.History at 0x7f7686168690>"
            ]
          },
          "metadata": {},
          "execution_count": 37
        }
      ]
    },
    {
      "cell_type": "code",
      "source": [
        ""
      ],
      "metadata": {
        "id": "KTHRXhSZG9ek"
      },
      "execution_count": null,
      "outputs": []
    }
  ]
}