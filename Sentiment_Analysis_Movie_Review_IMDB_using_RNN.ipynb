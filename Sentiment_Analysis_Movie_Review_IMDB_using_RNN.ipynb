{
  "nbformat": 4,
  "nbformat_minor": 0,
  "metadata": {
    "colab": {
      "name": "Sentiment Analysis Movie Review IMDB using RNN.ipynb",
      "provenance": []
    },
    "kernelspec": {
      "name": "python3",
      "display_name": "Python 3"
    },
    "language_info": {
      "name": "python"
    },
    "accelerator": "GPU"
  },
  "cells": [
    {
      "cell_type": "code",
      "execution_count": 1,
      "metadata": {
        "id": "_57hStrvGO50"
      },
      "outputs": [],
      "source": [
        "import tensorflow as tf\n",
        "from tensorflow.keras.datasets import imdb"
      ]
    },
    {
      "cell_type": "code",
      "source": [
        "tf.__version__"
      ],
      "metadata": {
        "colab": {
          "base_uri": "https://localhost:8080/",
          "height": 35
        },
        "id": "UiJjDRH-GZaK",
        "outputId": "3bc882e1-c3bf-4638-cd8e-8370238cc8e1"
      },
      "execution_count": 2,
      "outputs": [
        {
          "output_type": "execute_result",
          "data": {
            "application/vnd.google.colaboratory.intrinsic+json": {
              "type": "string"
            },
            "text/plain": [
              "'2.8.0'"
            ]
          },
          "metadata": {},
          "execution_count": 2
        }
      ]
    },
    {
      "cell_type": "code",
      "source": [
        "number_of_words = 20000\n",
        "max_len = 100"
      ],
      "metadata": {
        "id": "gZvVaIRiHX9A"
      },
      "execution_count": 11,
      "outputs": []
    },
    {
      "cell_type": "code",
      "source": [
        "(X_train,y_train) , (X_test,y_test) = imdb.load_data(num_words=number_of_words)"
      ],
      "metadata": {
        "id": "smSv3rTWGcbX"
      },
      "execution_count": 13,
      "outputs": []
    },
    {
      "cell_type": "code",
      "source": [
        "X_train.shape , y_train.shape  , X_test.shape"
      ],
      "metadata": {
        "colab": {
          "base_uri": "https://localhost:8080/"
        },
        "id": "Kc7Mr8DIGmpR",
        "outputId": "2fd8bf5c-a31e-4ee4-e4c0-02fafc0ec231"
      },
      "execution_count": 14,
      "outputs": [
        {
          "output_type": "execute_result",
          "data": {
            "text/plain": [
              "((25000,), (25000,), (25000,))"
            ]
          },
          "metadata": {},
          "execution_count": 14
        }
      ]
    },
    {
      "cell_type": "code",
      "source": [
        "X_train = tf.keras.preprocessing.sequence.pad_sequences(X_train,maxlen=max_len)\n",
        "\n",
        "\n",
        "X_test = tf.keras.preprocessing.sequence.pad_sequences(X_test,maxlen=max_len)"
      ],
      "metadata": {
        "id": "yvK-LPfrGqOH"
      },
      "execution_count": 15,
      "outputs": []
    },
    {
      "cell_type": "code",
      "source": [
        "type(X_train)"
      ],
      "metadata": {
        "colab": {
          "base_uri": "https://localhost:8080/"
        },
        "id": "zjRYVhStH87a",
        "outputId": "b1f63b09-9e41-47cf-c590-e44142d092ea"
      },
      "execution_count": 19,
      "outputs": [
        {
          "output_type": "execute_result",
          "data": {
            "text/plain": [
              "numpy.ndarray"
            ]
          },
          "metadata": {},
          "execution_count": 19
        }
      ]
    },
    {
      "cell_type": "code",
      "source": [
        "model =  tf.keras.Sequential()"
      ],
      "metadata": {
        "id": "1fpzygHYICIW"
      },
      "execution_count": 20,
      "outputs": []
    },
    {
      "cell_type": "code",
      "source": [
        "model.add(tf.keras.layers.Embedding(input_dim=number_of_words, output_dim=128, input_shape=(X_train.shape[1],)))"
      ],
      "metadata": {
        "id": "OF2LjKkdIW8Y"
      },
      "execution_count": 21,
      "outputs": []
    },
    {
      "cell_type": "code",
      "source": [
        "model.add(tf.keras.layers.LSTM(units=128, activation='tanh'))"
      ],
      "metadata": {
        "id": "O-YXI4v9Ouqv"
      },
      "execution_count": 22,
      "outputs": []
    },
    {
      "cell_type": "code",
      "source": [
        "model.add(tf.keras.layers.Dense(units=1, activation='sigmoid'))"
      ],
      "metadata": {
        "id": "v4ilqFkwOxdi"
      },
      "execution_count": 23,
      "outputs": []
    },
    {
      "cell_type": "code",
      "source": [
        "model.compile(optimizer='rmsprop', loss='binary_crossentropy', metrics=['accuracy'])"
      ],
      "metadata": {
        "id": "EGbEd8b0P3QH"
      },
      "execution_count": 24,
      "outputs": []
    },
    {
      "cell_type": "code",
      "source": [
        "model.fit(X_train, y_train, epochs=100, batch_size=32)"
      ],
      "metadata": {
        "colab": {
          "base_uri": "https://localhost:8080/"
        },
        "id": "ItDKTRs0P-e9",
        "outputId": "0f890687-46ba-44e6-b679-1b01b2be8d1b"
      },
      "execution_count": 25,
      "outputs": [
        {
          "output_type": "stream",
          "name": "stdout",
          "text": [
            "Epoch 1/100\n",
            "782/782 [==============================] - 29s 29ms/step - loss: 0.4303 - accuracy: 0.7977\n",
            "Epoch 2/100\n",
            "782/782 [==============================] - 21s 27ms/step - loss: 0.2857 - accuracy: 0.8852\n",
            "Epoch 3/100\n",
            "782/782 [==============================] - 21s 27ms/step - loss: 0.2358 - accuracy: 0.9082\n",
            "Epoch 4/100\n",
            "782/782 [==============================] - 21s 27ms/step - loss: 0.1931 - accuracy: 0.9272\n",
            "Epoch 5/100\n",
            "782/782 [==============================] - 21s 26ms/step - loss: 0.1662 - accuracy: 0.9380\n",
            "Epoch 6/100\n",
            "782/782 [==============================] - 20s 26ms/step - loss: 0.1348 - accuracy: 0.9526\n",
            "Epoch 7/100\n",
            "782/782 [==============================] - 20s 26ms/step - loss: 0.1116 - accuracy: 0.9594\n",
            "Epoch 8/100\n",
            "782/782 [==============================] - 20s 25ms/step - loss: 0.0883 - accuracy: 0.9692\n",
            "Epoch 9/100\n",
            "782/782 [==============================] - 19s 25ms/step - loss: 0.0686 - accuracy: 0.9774\n",
            "Epoch 10/100\n",
            "782/782 [==============================] - 19s 24ms/step - loss: 0.0532 - accuracy: 0.9816\n",
            "Epoch 11/100\n",
            "782/782 [==============================] - 19s 24ms/step - loss: 0.0412 - accuracy: 0.9863\n",
            "Epoch 12/100\n",
            "782/782 [==============================] - 19s 24ms/step - loss: 0.0319 - accuracy: 0.9901\n",
            "Epoch 13/100\n",
            "782/782 [==============================] - 19s 24ms/step - loss: 0.0242 - accuracy: 0.9924\n",
            "Epoch 14/100\n",
            "782/782 [==============================] - 19s 24ms/step - loss: 0.0162 - accuracy: 0.9945\n",
            "Epoch 15/100\n",
            "782/782 [==============================] - 19s 24ms/step - loss: 0.0112 - accuracy: 0.9966\n",
            "Epoch 16/100\n",
            "782/782 [==============================] - 19s 24ms/step - loss: 0.0077 - accuracy: 0.9982\n",
            "Epoch 17/100\n",
            "782/782 [==============================] - 18s 24ms/step - loss: 0.0066 - accuracy: 0.9979\n",
            "Epoch 18/100\n",
            "782/782 [==============================] - 18s 23ms/step - loss: 0.0050 - accuracy: 0.9986\n",
            "Epoch 19/100\n",
            "782/782 [==============================] - 18s 23ms/step - loss: 0.0047 - accuracy: 0.9987\n",
            "Epoch 20/100\n",
            "782/782 [==============================] - 18s 23ms/step - loss: 0.0038 - accuracy: 0.9988\n",
            "Epoch 21/100\n",
            "782/782 [==============================] - 18s 23ms/step - loss: 0.0031 - accuracy: 0.9994\n",
            "Epoch 22/100\n",
            "782/782 [==============================] - 18s 23ms/step - loss: 0.0014 - accuracy: 0.9997\n",
            "Epoch 23/100\n",
            "782/782 [==============================] - 18s 23ms/step - loss: 0.0012 - accuracy: 0.9997\n",
            "Epoch 24/100\n",
            "782/782 [==============================] - 18s 23ms/step - loss: 0.0029 - accuracy: 0.9995\n",
            "Epoch 25/100\n",
            "782/782 [==============================] - 18s 23ms/step - loss: 0.0015 - accuracy: 0.9998\n",
            "Epoch 26/100\n",
            "782/782 [==============================] - 18s 23ms/step - loss: 0.0012 - accuracy: 0.9997\n",
            "Epoch 27/100\n",
            "782/782 [==============================] - 18s 23ms/step - loss: 0.0019 - accuracy: 0.9997\n",
            "Epoch 28/100\n",
            "782/782 [==============================] - 18s 23ms/step - loss: 0.0017 - accuracy: 0.9996\n",
            "Epoch 29/100\n",
            "782/782 [==============================] - 18s 23ms/step - loss: 0.0012 - accuracy: 0.9998\n",
            "Epoch 30/100\n",
            "782/782 [==============================] - 18s 23ms/step - loss: 0.0022 - accuracy: 0.9996\n",
            "Epoch 31/100\n",
            "782/782 [==============================] - 18s 23ms/step - loss: 5.8379e-04 - accuracy: 0.9998\n",
            "Epoch 32/100\n",
            "782/782 [==============================] - 18s 23ms/step - loss: 1.3672e-06 - accuracy: 1.0000\n",
            "Epoch 33/100\n",
            "782/782 [==============================] - 18s 23ms/step - loss: 0.0012 - accuracy: 0.9998\n",
            "Epoch 34/100\n",
            "782/782 [==============================] - 18s 23ms/step - loss: 7.9768e-04 - accuracy: 0.9999\n",
            "Epoch 35/100\n",
            "782/782 [==============================] - 18s 23ms/step - loss: 7.4354e-04 - accuracy: 1.0000\n",
            "Epoch 36/100\n",
            "782/782 [==============================] - 18s 23ms/step - loss: 2.6603e-04 - accuracy: 0.9999\n",
            "Epoch 37/100\n",
            "782/782 [==============================] - 18s 23ms/step - loss: 1.0822e-09 - accuracy: 1.0000\n",
            "Epoch 38/100\n",
            "782/782 [==============================] - 18s 23ms/step - loss: 7.5317e-10 - accuracy: 1.0000\n",
            "Epoch 39/100\n",
            "782/782 [==============================] - 18s 23ms/step - loss: 6.1880e-10 - accuracy: 1.0000\n",
            "Epoch 40/100\n",
            "782/782 [==============================] - 18s 23ms/step - loss: 5.3759e-10 - accuracy: 1.0000\n",
            "Epoch 41/100\n",
            "782/782 [==============================] - 18s 23ms/step - loss: 4.7720e-10 - accuracy: 1.0000\n",
            "Epoch 42/100\n",
            "782/782 [==============================] - 18s 23ms/step - loss: 4.3884e-10 - accuracy: 1.0000\n",
            "Epoch 43/100\n",
            "782/782 [==============================] - 18s 23ms/step - loss: 4.0295e-10 - accuracy: 1.0000\n",
            "Epoch 44/100\n",
            "782/782 [==============================] - 18s 23ms/step - loss: 3.7484e-10 - accuracy: 1.0000\n",
            "Epoch 45/100\n",
            "782/782 [==============================] - 18s 23ms/step - loss: 3.5754e-10 - accuracy: 1.0000\n",
            "Epoch 46/100\n",
            "782/782 [==============================] - 18s 23ms/step - loss: 3.3598e-10 - accuracy: 1.0000\n",
            "Epoch 47/100\n",
            "782/782 [==============================] - 18s 23ms/step - loss: 3.1820e-10 - accuracy: 1.0000\n",
            "Epoch 48/100\n",
            "782/782 [==============================] - 18s 23ms/step - loss: 3.0680e-10 - accuracy: 1.0000\n",
            "Epoch 49/100\n",
            "782/782 [==============================] - 18s 23ms/step - loss: 2.9182e-10 - accuracy: 1.0000\n",
            "Epoch 50/100\n",
            "782/782 [==============================] - 18s 23ms/step - loss: 2.8481e-10 - accuracy: 1.0000\n",
            "Epoch 51/100\n",
            "782/782 [==============================] - 18s 23ms/step - loss: 2.7241e-10 - accuracy: 1.0000\n",
            "Epoch 52/100\n",
            "782/782 [==============================] - 18s 23ms/step - loss: 2.6589e-10 - accuracy: 1.0000\n",
            "Epoch 53/100\n",
            "782/782 [==============================] - 18s 23ms/step - loss: 2.5807e-10 - accuracy: 1.0000\n",
            "Epoch 54/100\n",
            "782/782 [==============================] - 18s 23ms/step - loss: 2.4656e-10 - accuracy: 1.0000\n",
            "Epoch 55/100\n",
            "782/782 [==============================] - 18s 23ms/step - loss: 2.4741e-10 - accuracy: 1.0000\n",
            "Epoch 56/100\n",
            "782/782 [==============================] - 18s 23ms/step - loss: 2.4371e-10 - accuracy: 1.0000\n",
            "Epoch 57/100\n",
            "782/782 [==============================] - 18s 23ms/step - loss: 2.3557e-10 - accuracy: 1.0000\n",
            "Epoch 58/100\n",
            "782/782 [==============================] - 18s 23ms/step - loss: 2.3092e-10 - accuracy: 1.0000\n",
            "Epoch 59/100\n",
            "782/782 [==============================] - 18s 23ms/step - loss: 2.2642e-10 - accuracy: 1.0000\n",
            "Epoch 60/100\n",
            "782/782 [==============================] - 18s 23ms/step - loss: 2.2486e-10 - accuracy: 1.0000\n",
            "Epoch 61/100\n",
            "782/782 [==============================] - 18s 23ms/step - loss: 2.1856e-10 - accuracy: 1.0000\n",
            "Epoch 62/100\n",
            "782/782 [==============================] - 18s 24ms/step - loss: 2.1826e-10 - accuracy: 1.0000\n",
            "Epoch 63/100\n",
            "782/782 [==============================] - 18s 23ms/step - loss: 2.1741e-10 - accuracy: 1.0000\n",
            "Epoch 64/100\n",
            "782/782 [==============================] - 18s 23ms/step - loss: 2.1367e-10 - accuracy: 1.0000\n",
            "Epoch 65/100\n",
            "782/782 [==============================] - 18s 23ms/step - loss: 2.1088e-10 - accuracy: 1.0000\n",
            "Epoch 66/100\n",
            "782/782 [==============================] - 18s 23ms/step - loss: 2.0811e-10 - accuracy: 1.0000\n",
            "Epoch 67/100\n",
            "782/782 [==============================] - 18s 23ms/step - loss: 2.0695e-10 - accuracy: 1.0000\n",
            "Epoch 68/100\n",
            "782/782 [==============================] - 18s 23ms/step - loss: 2.0378e-10 - accuracy: 1.0000\n",
            "Epoch 69/100\n",
            "782/782 [==============================] - 18s 23ms/step - loss: 2.0149e-10 - accuracy: 1.0000\n",
            "Epoch 70/100\n",
            "782/782 [==============================] - 19s 24ms/step - loss: 1.9988e-10 - accuracy: 1.0000\n",
            "Epoch 71/100\n",
            "782/782 [==============================] - 18s 23ms/step - loss: 1.9771e-10 - accuracy: 1.0000\n",
            "Epoch 72/100\n",
            "782/782 [==============================] - 18s 23ms/step - loss: 1.9956e-10 - accuracy: 1.0000\n",
            "Epoch 73/100\n",
            "782/782 [==============================] - 18s 23ms/step - loss: 1.9480e-10 - accuracy: 1.0000\n",
            "Epoch 74/100\n",
            "782/782 [==============================] - 18s 23ms/step - loss: 1.9494e-10 - accuracy: 1.0000\n",
            "Epoch 75/100\n",
            "782/782 [==============================] - 18s 23ms/step - loss: 1.9166e-10 - accuracy: 1.0000\n",
            "Epoch 76/100\n",
            "782/782 [==============================] - 18s 23ms/step - loss: 1.9075e-10 - accuracy: 1.0000\n",
            "Epoch 77/100\n",
            "782/782 [==============================] - 18s 23ms/step - loss: 1.8984e-10 - accuracy: 1.0000\n",
            "Epoch 78/100\n",
            "782/782 [==============================] - 18s 23ms/step - loss: 1.8865e-10 - accuracy: 1.0000\n",
            "Epoch 79/100\n",
            "782/782 [==============================] - 18s 23ms/step - loss: 1.8771e-10 - accuracy: 1.0000\n",
            "Epoch 80/100\n",
            "782/782 [==============================] - 18s 23ms/step - loss: 1.8333e-10 - accuracy: 1.0000\n",
            "Epoch 81/100\n",
            "782/782 [==============================] - 18s 23ms/step - loss: 1.8275e-10 - accuracy: 1.0000\n",
            "Epoch 82/100\n",
            "782/782 [==============================] - 18s 23ms/step - loss: 1.8527e-10 - accuracy: 1.0000\n",
            "Epoch 83/100\n",
            "782/782 [==============================] - 18s 23ms/step - loss: 1.8299e-10 - accuracy: 1.0000\n",
            "Epoch 84/100\n",
            "782/782 [==============================] - 18s 23ms/step - loss: 1.8229e-10 - accuracy: 1.0000\n",
            "Epoch 85/100\n",
            "782/782 [==============================] - 18s 23ms/step - loss: 1.7700e-10 - accuracy: 1.0000\n",
            "Epoch 86/100\n",
            "782/782 [==============================] - 18s 23ms/step - loss: 1.7839e-10 - accuracy: 1.0000\n",
            "Epoch 87/100\n",
            "782/782 [==============================] - 18s 23ms/step - loss: 1.7892e-10 - accuracy: 1.0000\n",
            "Epoch 88/100\n",
            "782/782 [==============================] - 18s 23ms/step - loss: 1.7832e-10 - accuracy: 1.0000\n",
            "Epoch 89/100\n",
            "782/782 [==============================] - 18s 23ms/step - loss: 1.7413e-10 - accuracy: 1.0000\n",
            "Epoch 90/100\n",
            "782/782 [==============================] - 18s 23ms/step - loss: 1.7976e-10 - accuracy: 1.0000\n",
            "Epoch 91/100\n",
            "782/782 [==============================] - 18s 23ms/step - loss: 1.7928e-10 - accuracy: 1.0000\n",
            "Epoch 92/100\n",
            "782/782 [==============================] - 18s 23ms/step - loss: 1.7925e-10 - accuracy: 1.0000\n",
            "Epoch 93/100\n",
            "782/782 [==============================] - 18s 23ms/step - loss: 1.7694e-10 - accuracy: 1.0000\n",
            "Epoch 94/100\n",
            "782/782 [==============================] - 18s 23ms/step - loss: 1.7553e-10 - accuracy: 1.0000\n",
            "Epoch 95/100\n",
            "782/782 [==============================] - 18s 23ms/step - loss: 1.7731e-10 - accuracy: 1.0000\n",
            "Epoch 96/100\n",
            "782/782 [==============================] - 18s 23ms/step - loss: 1.7509e-10 - accuracy: 1.0000\n",
            "Epoch 97/100\n",
            "782/782 [==============================] - 18s 23ms/step - loss: 1.7372e-10 - accuracy: 1.0000\n",
            "Epoch 98/100\n",
            "782/782 [==============================] - 18s 23ms/step - loss: 1.7515e-10 - accuracy: 1.0000\n",
            "Epoch 99/100\n",
            "782/782 [==============================] - 18s 23ms/step - loss: 1.7458e-10 - accuracy: 1.0000\n",
            "Epoch 100/100\n",
            "782/782 [==============================] - 18s 23ms/step - loss: 1.7857e-10 - accuracy: 1.0000\n"
          ]
        },
        {
          "output_type": "execute_result",
          "data": {
            "text/plain": [
              "<keras.callbacks.History at 0x7ff1a7e13690>"
            ]
          },
          "metadata": {},
          "execution_count": 25
        }
      ]
    },
    {
      "cell_type": "code",
      "source": [
        "test_loss, test_acurracy = model.evaluate(X_test, y_test)"
      ],
      "metadata": {
        "colab": {
          "base_uri": "https://localhost:8080/"
        },
        "id": "SXy6gPchQCfL",
        "outputId": "76cad6b8-0c5a-4bd1-8a29-8ecb76593358"
      },
      "execution_count": 26,
      "outputs": [
        {
          "output_type": "stream",
          "name": "stdout",
          "text": [
            "782/782 [==============================] - 8s 10ms/step - loss: 2.6812 - accuracy: 0.8262\n"
          ]
        }
      ]
    },
    {
      "cell_type": "code",
      "source": [
        ""
      ],
      "metadata": {
        "id": "41N33MoNQGEn"
      },
      "execution_count": null,
      "outputs": []
    }
  ]
}